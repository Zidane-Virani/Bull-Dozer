{
  "nbformat": 4,
  "nbformat_minor": 0,
  "metadata": {
    "colab": {
      "provenance": [],
      "authorship_tag": "ABX9TyOkWT3YO5XwWfz91igc3Psv",
      "include_colab_link": true
    },
    "kernelspec": {
      "name": "python3",
      "display_name": "Python 3"
    },
    "language_info": {
      "name": "python"
    }
  },
  "cells": [
    {
      "cell_type": "markdown",
      "metadata": {
        "id": "view-in-github",
        "colab_type": "text"
      },
      "source": [
        "<a href=\"https://colab.research.google.com/github/Zidane-Virani/Bull-Dozer/blob/main/Amazon_Ratings.ipynb\" target=\"_parent\"><img src=\"https://colab.research.google.com/assets/colab-badge.svg\" alt=\"Open In Colab\"/></a>"
      ]
    },
    {
      "cell_type": "code",
      "source": [
        "import requests\n",
        "from bs4 import BeautifulSoup\n",
        "import re\n",
        "\n",
        "def get_amazon_rating(asin, region='com'):\n",
        "    url = f\"https://www.amazon.{region}/dp/{asin}\"\n",
        "    headers = {\n",
        "        \"User-Agent\": \"Mozilla/5.0 (Windows NT 10.0; Win64; x64)\",\n",
        "        \"Accept-Language\": \"en-US,en;q=0.9\",\n",
        "    }\n",
        "\n",
        "    try:\n",
        "        response = requests.get(url, headers=headers)\n",
        "        soup = BeautifulSoup(response.text, 'html.parser')\n",
        "\n",
        "\n",
        "        rating_text = None\n",
        "        for span in soup.find_all(\"span\", class_=\"a-icon-alt\"):\n",
        "            if re.search(r\"\\d\\.\\d+ out of 5 stars\", span.text):\n",
        "                rating_text = span.text\n",
        "                break\n",
        "\n",
        "\n",
        "        review_count = None\n",
        "        review_elem = soup.select_one(\"#acrCustomerReviewText\")\n",
        "        if review_elem:\n",
        "            review_count = review_elem.text.strip()\n",
        "\n",
        "        return {\n",
        "            \"asin\": asin,\n",
        "            \"rating\": rating_text or \"Not found\",\n",
        "            \"review_count\": review_count or \"Not found\",\n",
        "            \"url\": url\n",
        "        }\n",
        "\n",
        "    except Exception as e:\n",
        "        return {\"error\": str(e)}\n",
        "\n",
        "#Example\n",
        "asin = \"159184200X\"\n",
        "print(get_amazon_rating(asin))\n"
      ],
      "metadata": {
        "colab": {
          "base_uri": "https://localhost:8080/"
        },
        "id": "FGfE6HyFD3W_",
        "outputId": "c4fe4470-e7a3-4c4e-9bf7-46cf73cd0d71"
      },
      "execution_count": null,
      "outputs": [
        {
          "output_type": "stream",
          "name": "stdout",
          "text": [
            "{'asin': '159184200X', 'rating': '4.8 out of 5 stars', 'review_count': '9,504 ratings', 'url': 'https://www.amazon.com/dp/159184200X'}\n"
          ]
        }
      ]
    },
    {
      "cell_type": "code",
      "source": [],
      "metadata": {
        "id": "GaXr5mVXFJl-"
      },
      "execution_count": null,
      "outputs": []
    }
  ]
}